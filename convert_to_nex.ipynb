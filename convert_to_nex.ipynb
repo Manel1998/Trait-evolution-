{
 "cells": [
  {
   "cell_type": "code",
   "execution_count": 12,
   "id": "fa35fb62",
   "metadata": {},
   "outputs": [
    {
     "name": "stdout",
     "output_type": "stream",
     "text": [
      "                   g8438.t1   g5268.t1  g19817.t1   g8111.t1  g14233.t1  ...  g20152.t1  g16324.t1  g4584.t1  g12231.t1  g2384.t1\n",
      "GAoutput_Ga_T_R1   7.528361   9.896978   7.459905  10.173724   4.115562  ...   9.898151   9.705257  5.228642   4.011395  6.418105\n",
      "GAoutput_Ga_T_R2   7.715141  10.137621   7.970724  10.910696   3.322239  ...  11.035152   9.961890  4.869282   4.361618  5.518040\n",
      "GAoutput_Ga_T_R4   7.354188   9.349221   7.915729  10.115523   3.322239  ...  10.488884   9.768064  5.393397   3.322239  6.269352\n",
      "GAoutput_Ga_T_R5   7.604479   9.018793   7.821774  10.759490   3.322239  ...  10.133923  10.029567  4.655206   3.322239  5.430935\n",
      "GAoutput_Xc_T_R10  7.632078   8.227827   8.024411  11.187242   3.322239  ...   5.628841   9.927623  4.272642   3.322239  4.974896\n",
      "GAoutput_Xc_T_R11  8.038316   7.729126   8.106239  11.483429   4.243438  ...   6.112285  10.046658  3.860056   3.322239  4.700417\n",
      "GAoutput_Xc_T_R15  7.755293   7.593786   8.086066  10.905874   3.322239  ...   5.955670   9.798203  4.568537   4.099941  5.129792\n",
      "GAoutput_Xc_T_R7   8.147402   7.330746   7.916726  10.773331   3.322239  ...   5.583580   9.639513  5.047442   3.322239  5.047442\n",
      "\n",
      "[8 rows x 22183 columns]\n",
      "                   g8438.t1   g5268.t1  g19817.t1   g8111.t1  g14233.t1  ...  g20152.t1  g16324.t1  g4584.t1  g12231.t1  g2384.t1\n",
      "GAoutput_Ga_T_R1   7.528361   9.896978   7.459905  10.173724   4.115562  ...   9.898151   9.705257  5.228642   4.011395  6.418105\n",
      "GAoutput_Ga_T_R2   7.715141  10.137621   7.970724  10.910696   3.322239  ...  11.035152   9.961890  4.869282   4.361618  5.518040\n",
      "GAoutput_Ga_T_R4   7.354188   9.349221   7.915729  10.115523   3.322239  ...  10.488884   9.768064  5.393397   3.322239  6.269352\n",
      "GAoutput_Ga_T_R5   7.604479   9.018793   7.821774  10.759490   3.322239  ...  10.133923  10.029567  4.655206   3.322239  5.430935\n",
      "GAoutput_Xc_T_R10  7.632078   8.227827   8.024411  11.187242   3.322239  ...   5.628841   9.927623  4.272642   3.322239  4.974896\n",
      "GAoutput_Xc_T_R11  8.038316   7.729126   8.106239  11.483429   4.243438  ...   6.112285  10.046658  3.860056   3.322239  4.700417\n",
      "GAoutput_Xc_T_R15  7.755293   7.593786   8.086066  10.905874   3.322239  ...   5.955670   9.798203  4.568537   4.099941  5.129792\n",
      "GAoutput_Xc_T_R7   8.147402   7.330746   7.916726  10.773331   3.322239  ...   5.583580   9.639513  5.047442   3.322239  5.047442\n",
      "\n",
      "[8 rows x 22183 columns]\n"
     ]
    }
   ],
   "source": [
    "import pandas as pd\n",
    "\n",
    "# Read the CSV file correctly\n",
    "df = pd.read_csv(\"../GA/trophotaenia/data_GA_tr_vst_normalized_counts.csv\", sep='\\t')\n",
    "\n",
    "\n",
    "\n",
    "\n",
    "# Transpose the DataFrame\n",
    "df = df.T  # Equivalent to df.transpose()\n",
    "\n",
    "# Print to check structure\n",
    "print(df)\n"
   ]
  },
  {
   "cell_type": "code",
   "execution_count": 13,
   "id": "290b292f-e2c8-4c58-bf38-69147d34608e",
   "metadata": {},
   "outputs": [],
   "source": [
    "def df_to_nexus(df, output_file, datatype=\"Continuous\", missing=\"?\", gap=\"-\"):\n",
    "    # Get the number of taxa and characters\n",
    "    ntax = df.shape[0]  # Number of rows (taxa)\n",
    "    nchar = df.shape[1]  # Number of columns (characters)\n",
    "\n",
    "    with open(output_file, 'w') as f:\n",
    "        # Write the Nexus header\n",
    "        f.write(\"#NEXUS\\n\\n\")\n",
    "        f.write(\"Begin data;\\n\")\n",
    "        f.write(f\"    Dimensions ntax={ntax} nchar={nchar};\\n\")\n",
    "        f.write(f\"    Format datatype={datatype} missing={missing} gap={gap};\\n\")\n",
    "        f.write(\"    Matrix\\n\")\n",
    "        \n",
    "        # Write the matrix\n",
    "        for index, row in df.iterrows():\n",
    "            f.write(f\"        {index}    {' '.join(map(str, row.values))}\\n\")\n",
    "        \n",
    "        # Close the Nexus block\n",
    "        f.write(\"    ;\\n\")\n",
    "        f.write(\"End;\\n\")\n",
    "\n",
    "# Example usage:\n",
    "df_to_nexus(df, \"../GA/trophotaenia/output_ga_tr.nex\")\n"
   ]
  }
 ],
 "metadata": {
  "kernelspec": {
   "display_name": "Python 3 (ipykernel)",
   "language": "python",
   "name": "python3"
  },
  "language_info": {
   "codemirror_mode": {
    "name": "ipython",
    "version": 3
   },
   "file_extension": ".py",
   "mimetype": "text/x-python",
   "name": "python",
   "nbconvert_exporter": "python",
   "pygments_lexer": "ipython3",
   "version": "3.12.4"
  }
 },
 "nbformat": 4,
 "nbformat_minor": 5
}
